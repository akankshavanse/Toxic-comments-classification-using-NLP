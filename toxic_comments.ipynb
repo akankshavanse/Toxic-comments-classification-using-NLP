{
  "nbformat": 4,
  "nbformat_minor": 0,
  "metadata": {
    "kernelspec": {
      "language": "python",
      "display_name": "Python 3",
      "name": "python3"
    },
    "language_info": {
      "pygments_lexer": "ipython3",
      "nbconvert_exporter": "python",
      "version": "3.6.4",
      "file_extension": ".py",
      "codemirror_mode": {
        "name": "ipython",
        "version": 3
      },
      "name": "python",
      "mimetype": "text/x-python"
    },
    "colab": {
      "provenance": []
    },
    "accelerator": "GPU"
  },
  "cells": [
    {
      "cell_type": "code",
      "metadata": {
        "_uuid": "8f2839f25d086af736a60e9eeb907d3b93b6e0e5",
        "_cell_guid": "b1076dfc-b9ad-4769-8c92-a6c4dae69d19",
        "trusted": true,
        "id": "-hu66gaq_XdB"
      },
      "source": [
        "#importing inbuilt libraries\n",
        "import re\n",
        "import string\n",
        "\n",
        "#importing 3rd party libraries\n",
        "import matplotlib.pyplot as plt\n",
        "import seaborn as sns\n",
        "import warnings\n",
        "\n",
        "import pandas as pd\n",
        "import numpy as np\n",
        "\n",
        "from nltk.stem.wordnet import WordNetLemmatizer\n",
        "from nltk.corpus import stopwords\n",
        "\n",
        "from wordcloud import WordCloud\n",
        "from collections import Counter\n",
        "\n",
        "from sklearn.feature_extraction.text import TfidfVectorizer\n",
        "from sklearn.linear_model import LogisticRegression\n",
        "from sklearn.naive_bayes import MultinomialNB\n",
        "from sklearn.metrics import accuracy_score, roc_auc_score\n",
        "from sklearn.metrics import confusion_matrix,classification_report\n",
        "from sklearn.model_selection import cross_val_score\n",
        "\n",
        "from statistics import mean\n",
        "\n",
        "%matplotlib inline"
      ],
      "execution_count": null,
      "outputs": []
    },
    {
      "cell_type": "code",
      "metadata": {
        "colab": {
          "base_uri": "https://localhost:8080/"
        },
        "id": "01rWM1LCdoM5",
        "outputId": "23d2fd9b-f589-4519-8b93-83b97c335fbc"
      },
      "source": [
        "#mounting drive to load dataset\n",
        "from google.colab import drive\n",
        "drive.mount('/content/drive')"
      ],
      "execution_count": null,
      "outputs": [
        {
          "output_type": "stream",
          "text": [
            "Mounted at /content/drive\n"
          ],
          "name": "stdout"
        }
      ]
    },
    {
      "cell_type": "code",
      "metadata": {
        "trusted": true,
        "id": "6GiAJ99O_XdD"
      },
      "source": [
        "#load dataset\n",
        "train_df = pd.read_csv(\"/content/drive/MyDrive/train.csv.zip\")\n",
        "test_df = pd.read_csv(\"/content/drive/MyDrive/test.csv.zip\")\n",
        "test_y = pd.read_csv(\"/content/drive/MyDrive/test_labels.csv.zip\")\n"
      ],
      "execution_count": null,
      "outputs": []
    },
    {
      "cell_type": "code",
      "metadata": {
        "trusted": true,
        "colab": {
          "base_uri": "https://localhost:8080/",
          "height": 289
        },
        "id": "3asbbxMz_XdE",
        "outputId": "bfe50cd2-7f26-40cf-9fa7-aa52b439d448"
      },
      "source": [
        "#verify training set\n",
        "train_df.head()"
      ],
      "execution_count": null,
      "outputs": [
        {
          "output_type": "execute_result",
          "data": {
            "text/html": [
              "<div>\n",
              "<style scoped>\n",
              "    .dataframe tbody tr th:only-of-type {\n",
              "        vertical-align: middle;\n",
              "    }\n",
              "\n",
              "    .dataframe tbody tr th {\n",
              "        vertical-align: top;\n",
              "    }\n",
              "\n",
              "    .dataframe thead th {\n",
              "        text-align: right;\n",
              "    }\n",
              "</style>\n",
              "<table border=\"1\" class=\"dataframe\">\n",
              "  <thead>\n",
              "    <tr style=\"text-align: right;\">\n",
              "      <th></th>\n",
              "      <th>id</th>\n",
              "      <th>comment_text</th>\n",
              "      <th>toxic</th>\n",
              "      <th>severe_toxic</th>\n",
              "      <th>obscene</th>\n",
              "      <th>threat</th>\n",
              "      <th>insult</th>\n",
              "      <th>identity_hate</th>\n",
              "    </tr>\n",
              "  </thead>\n",
              "  <tbody>\n",
              "    <tr>\n",
              "      <th>0</th>\n",
              "      <td>0000997932d777bf</td>\n",
              "      <td>Explanation\\nWhy the edits made under my usern...</td>\n",
              "      <td>0</td>\n",
              "      <td>0</td>\n",
              "      <td>0</td>\n",
              "      <td>0</td>\n",
              "      <td>0</td>\n",
              "      <td>0</td>\n",
              "    </tr>\n",
              "    <tr>\n",
              "      <th>1</th>\n",
              "      <td>000103f0d9cfb60f</td>\n",
              "      <td>D'aww! He matches this background colour I'm s...</td>\n",
              "      <td>0</td>\n",
              "      <td>0</td>\n",
              "      <td>0</td>\n",
              "      <td>0</td>\n",
              "      <td>0</td>\n",
              "      <td>0</td>\n",
              "    </tr>\n",
              "    <tr>\n",
              "      <th>2</th>\n",
              "      <td>000113f07ec002fd</td>\n",
              "      <td>Hey man, I'm really not trying to edit war. It...</td>\n",
              "      <td>0</td>\n",
              "      <td>0</td>\n",
              "      <td>0</td>\n",
              "      <td>0</td>\n",
              "      <td>0</td>\n",
              "      <td>0</td>\n",
              "    </tr>\n",
              "    <tr>\n",
              "      <th>3</th>\n",
              "      <td>0001b41b1c6bb37e</td>\n",
              "      <td>\"\\nMore\\nI can't make any real suggestions on ...</td>\n",
              "      <td>0</td>\n",
              "      <td>0</td>\n",
              "      <td>0</td>\n",
              "      <td>0</td>\n",
              "      <td>0</td>\n",
              "      <td>0</td>\n",
              "    </tr>\n",
              "    <tr>\n",
              "      <th>4</th>\n",
              "      <td>0001d958c54c6e35</td>\n",
              "      <td>You, sir, are my hero. Any chance you remember...</td>\n",
              "      <td>0</td>\n",
              "      <td>0</td>\n",
              "      <td>0</td>\n",
              "      <td>0</td>\n",
              "      <td>0</td>\n",
              "      <td>0</td>\n",
              "    </tr>\n",
              "  </tbody>\n",
              "</table>\n",
              "</div>"
            ],
            "text/plain": [
              "                 id  ... identity_hate\n",
              "0  0000997932d777bf  ...             0\n",
              "1  000103f0d9cfb60f  ...             0\n",
              "2  000113f07ec002fd  ...             0\n",
              "3  0001b41b1c6bb37e  ...             0\n",
              "4  0001d958c54c6e35  ...             0\n",
              "\n",
              "[5 rows x 8 columns]"
            ]
          },
          "metadata": {
            "tags": []
          },
          "execution_count": 4
        }
      ]
    },
    {
      "cell_type": "code",
      "metadata": {
        "trusted": true,
        "colab": {
          "base_uri": "https://localhost:8080/",
          "height": 297
        },
        "id": "R4lQ25Sp_XdF",
        "outputId": "284cdd8c-efc0-4359-f753-99560189d9e2"
      },
      "source": [
        "#analysis of training Dataset\n",
        "train_df.describe()"
      ],
      "execution_count": null,
      "outputs": [
        {
          "output_type": "execute_result",
          "data": {
            "text/html": [
              "<div>\n",
              "<style scoped>\n",
              "    .dataframe tbody tr th:only-of-type {\n",
              "        vertical-align: middle;\n",
              "    }\n",
              "\n",
              "    .dataframe tbody tr th {\n",
              "        vertical-align: top;\n",
              "    }\n",
              "\n",
              "    .dataframe thead th {\n",
              "        text-align: right;\n",
              "    }\n",
              "</style>\n",
              "<table border=\"1\" class=\"dataframe\">\n",
              "  <thead>\n",
              "    <tr style=\"text-align: right;\">\n",
              "      <th></th>\n",
              "      <th>toxic</th>\n",
              "      <th>severe_toxic</th>\n",
              "      <th>obscene</th>\n",
              "      <th>threat</th>\n",
              "      <th>insult</th>\n",
              "      <th>identity_hate</th>\n",
              "    </tr>\n",
              "  </thead>\n",
              "  <tbody>\n",
              "    <tr>\n",
              "      <th>count</th>\n",
              "      <td>159571.000000</td>\n",
              "      <td>159571.000000</td>\n",
              "      <td>159571.000000</td>\n",
              "      <td>159571.000000</td>\n",
              "      <td>159571.000000</td>\n",
              "      <td>159571.000000</td>\n",
              "    </tr>\n",
              "    <tr>\n",
              "      <th>mean</th>\n",
              "      <td>0.095844</td>\n",
              "      <td>0.009996</td>\n",
              "      <td>0.052948</td>\n",
              "      <td>0.002996</td>\n",
              "      <td>0.049364</td>\n",
              "      <td>0.008805</td>\n",
              "    </tr>\n",
              "    <tr>\n",
              "      <th>std</th>\n",
              "      <td>0.294379</td>\n",
              "      <td>0.099477</td>\n",
              "      <td>0.223931</td>\n",
              "      <td>0.054650</td>\n",
              "      <td>0.216627</td>\n",
              "      <td>0.093420</td>\n",
              "    </tr>\n",
              "    <tr>\n",
              "      <th>min</th>\n",
              "      <td>0.000000</td>\n",
              "      <td>0.000000</td>\n",
              "      <td>0.000000</td>\n",
              "      <td>0.000000</td>\n",
              "      <td>0.000000</td>\n",
              "      <td>0.000000</td>\n",
              "    </tr>\n",
              "    <tr>\n",
              "      <th>25%</th>\n",
              "      <td>0.000000</td>\n",
              "      <td>0.000000</td>\n",
              "      <td>0.000000</td>\n",
              "      <td>0.000000</td>\n",
              "      <td>0.000000</td>\n",
              "      <td>0.000000</td>\n",
              "    </tr>\n",
              "    <tr>\n",
              "      <th>50%</th>\n",
              "      <td>0.000000</td>\n",
              "      <td>0.000000</td>\n",
              "      <td>0.000000</td>\n",
              "      <td>0.000000</td>\n",
              "      <td>0.000000</td>\n",
              "      <td>0.000000</td>\n",
              "    </tr>\n",
              "    <tr>\n",
              "      <th>75%</th>\n",
              "      <td>0.000000</td>\n",
              "      <td>0.000000</td>\n",
              "      <td>0.000000</td>\n",
              "      <td>0.000000</td>\n",
              "      <td>0.000000</td>\n",
              "      <td>0.000000</td>\n",
              "    </tr>\n",
              "    <tr>\n",
              "      <th>max</th>\n",
              "      <td>1.000000</td>\n",
              "      <td>1.000000</td>\n",
              "      <td>1.000000</td>\n",
              "      <td>1.000000</td>\n",
              "      <td>1.000000</td>\n",
              "      <td>1.000000</td>\n",
              "    </tr>\n",
              "  </tbody>\n",
              "</table>\n",
              "</div>"
            ],
            "text/plain": [
              "               toxic   severe_toxic  ...         insult  identity_hate\n",
              "count  159571.000000  159571.000000  ...  159571.000000  159571.000000\n",
              "mean        0.095844       0.009996  ...       0.049364       0.008805\n",
              "std         0.294379       0.099477  ...       0.216627       0.093420\n",
              "min         0.000000       0.000000  ...       0.000000       0.000000\n",
              "25%         0.000000       0.000000  ...       0.000000       0.000000\n",
              "50%         0.000000       0.000000  ...       0.000000       0.000000\n",
              "75%         0.000000       0.000000  ...       0.000000       0.000000\n",
              "max         1.000000       1.000000  ...       1.000000       1.000000\n",
              "\n",
              "[8 rows x 6 columns]"
            ]
          },
          "metadata": {
            "tags": []
          },
          "execution_count": 5
        }
      ]
    },
    {
      "cell_type": "code",
      "metadata": {
        "trusted": true,
        "colab": {
          "base_uri": "https://localhost:8080/"
        },
        "id": "m7vng08M_XdG",
        "outputId": "363b0caa-eaa1-4828-d614-bc7e56d755d0"
      },
      "source": [
        "#checking training data for null values\n",
        "train_df.isnull().sum()"
      ],
      "execution_count": null,
      "outputs": [
        {
          "output_type": "execute_result",
          "data": {
            "text/plain": [
              "id               0\n",
              "comment_text     0\n",
              "toxic            0\n",
              "severe_toxic     0\n",
              "obscene          0\n",
              "threat           0\n",
              "insult           0\n",
              "identity_hate    0\n",
              "dtype: int64"
            ]
          },
          "metadata": {
            "tags": []
          },
          "execution_count": 6
        }
      ]
    },
    {
      "cell_type": "code",
      "metadata": {
        "trusted": true,
        "colab": {
          "base_uri": "https://localhost:8080/",
          "height": 204
        },
        "id": "Ta0GtaAq_XdI",
        "outputId": "eb57e640-900d-411c-b65d-3a88df64cf6f"
      },
      "source": [
        "#verify test set\n",
        "test_df.head()"
      ],
      "execution_count": null,
      "outputs": [
        {
          "output_type": "execute_result",
          "data": {
            "text/html": [
              "<div>\n",
              "<style scoped>\n",
              "    .dataframe tbody tr th:only-of-type {\n",
              "        vertical-align: middle;\n",
              "    }\n",
              "\n",
              "    .dataframe tbody tr th {\n",
              "        vertical-align: top;\n",
              "    }\n",
              "\n",
              "    .dataframe thead th {\n",
              "        text-align: right;\n",
              "    }\n",
              "</style>\n",
              "<table border=\"1\" class=\"dataframe\">\n",
              "  <thead>\n",
              "    <tr style=\"text-align: right;\">\n",
              "      <th></th>\n",
              "      <th>id</th>\n",
              "      <th>comment_text</th>\n",
              "    </tr>\n",
              "  </thead>\n",
              "  <tbody>\n",
              "    <tr>\n",
              "      <th>0</th>\n",
              "      <td>00001cee341fdb12</td>\n",
              "      <td>Yo bitch Ja Rule is more succesful then you'll...</td>\n",
              "    </tr>\n",
              "    <tr>\n",
              "      <th>1</th>\n",
              "      <td>0000247867823ef7</td>\n",
              "      <td>== From RfC == \\n\\n The title is fine as it is...</td>\n",
              "    </tr>\n",
              "    <tr>\n",
              "      <th>2</th>\n",
              "      <td>00013b17ad220c46</td>\n",
              "      <td>\" \\n\\n == Sources == \\n\\n * Zawe Ashton on Lap...</td>\n",
              "    </tr>\n",
              "    <tr>\n",
              "      <th>3</th>\n",
              "      <td>00017563c3f7919a</td>\n",
              "      <td>:If you have a look back at the source, the in...</td>\n",
              "    </tr>\n",
              "    <tr>\n",
              "      <th>4</th>\n",
              "      <td>00017695ad8997eb</td>\n",
              "      <td>I don't anonymously edit articles at all.</td>\n",
              "    </tr>\n",
              "  </tbody>\n",
              "</table>\n",
              "</div>"
            ],
            "text/plain": [
              "                 id                                       comment_text\n",
              "0  00001cee341fdb12  Yo bitch Ja Rule is more succesful then you'll...\n",
              "1  0000247867823ef7  == From RfC == \\n\\n The title is fine as it is...\n",
              "2  00013b17ad220c46  \" \\n\\n == Sources == \\n\\n * Zawe Ashton on Lap...\n",
              "3  00017563c3f7919a  :If you have a look back at the source, the in...\n",
              "4  00017695ad8997eb          I don't anonymously edit articles at all."
            ]
          },
          "metadata": {
            "tags": []
          },
          "execution_count": 7
        }
      ]
    },
    {
      "cell_type": "code",
      "metadata": {
        "trusted": true,
        "colab": {
          "base_uri": "https://localhost:8080/",
          "height": 204
        },
        "id": "EsyhBat4_XdI",
        "outputId": "1198aaa4-a2fb-4de3-b0eb-080e14664b8f"
      },
      "source": [
        "#verify test labels\n",
        "test_y.head()"
      ],
      "execution_count": null,
      "outputs": [
        {
          "output_type": "execute_result",
          "data": {
            "text/html": [
              "<div>\n",
              "<style scoped>\n",
              "    .dataframe tbody tr th:only-of-type {\n",
              "        vertical-align: middle;\n",
              "    }\n",
              "\n",
              "    .dataframe tbody tr th {\n",
              "        vertical-align: top;\n",
              "    }\n",
              "\n",
              "    .dataframe thead th {\n",
              "        text-align: right;\n",
              "    }\n",
              "</style>\n",
              "<table border=\"1\" class=\"dataframe\">\n",
              "  <thead>\n",
              "    <tr style=\"text-align: right;\">\n",
              "      <th></th>\n",
              "      <th>id</th>\n",
              "      <th>toxic</th>\n",
              "      <th>severe_toxic</th>\n",
              "      <th>obscene</th>\n",
              "      <th>threat</th>\n",
              "      <th>insult</th>\n",
              "      <th>identity_hate</th>\n",
              "    </tr>\n",
              "  </thead>\n",
              "  <tbody>\n",
              "    <tr>\n",
              "      <th>0</th>\n",
              "      <td>00001cee341fdb12</td>\n",
              "      <td>-1</td>\n",
              "      <td>-1</td>\n",
              "      <td>-1</td>\n",
              "      <td>-1</td>\n",
              "      <td>-1</td>\n",
              "      <td>-1</td>\n",
              "    </tr>\n",
              "    <tr>\n",
              "      <th>1</th>\n",
              "      <td>0000247867823ef7</td>\n",
              "      <td>-1</td>\n",
              "      <td>-1</td>\n",
              "      <td>-1</td>\n",
              "      <td>-1</td>\n",
              "      <td>-1</td>\n",
              "      <td>-1</td>\n",
              "    </tr>\n",
              "    <tr>\n",
              "      <th>2</th>\n",
              "      <td>00013b17ad220c46</td>\n",
              "      <td>-1</td>\n",
              "      <td>-1</td>\n",
              "      <td>-1</td>\n",
              "      <td>-1</td>\n",
              "      <td>-1</td>\n",
              "      <td>-1</td>\n",
              "    </tr>\n",
              "    <tr>\n",
              "      <th>3</th>\n",
              "      <td>00017563c3f7919a</td>\n",
              "      <td>-1</td>\n",
              "      <td>-1</td>\n",
              "      <td>-1</td>\n",
              "      <td>-1</td>\n",
              "      <td>-1</td>\n",
              "      <td>-1</td>\n",
              "    </tr>\n",
              "    <tr>\n",
              "      <th>4</th>\n",
              "      <td>00017695ad8997eb</td>\n",
              "      <td>-1</td>\n",
              "      <td>-1</td>\n",
              "      <td>-1</td>\n",
              "      <td>-1</td>\n",
              "      <td>-1</td>\n",
              "      <td>-1</td>\n",
              "    </tr>\n",
              "  </tbody>\n",
              "</table>\n",
              "</div>"
            ],
            "text/plain": [
              "                 id  toxic  severe_toxic  ...  threat  insult  identity_hate\n",
              "0  00001cee341fdb12     -1            -1  ...      -1      -1             -1\n",
              "1  0000247867823ef7     -1            -1  ...      -1      -1             -1\n",
              "2  00013b17ad220c46     -1            -1  ...      -1      -1             -1\n",
              "3  00017563c3f7919a     -1            -1  ...      -1      -1             -1\n",
              "4  00017695ad8997eb     -1            -1  ...      -1      -1             -1\n",
              "\n",
              "[5 rows x 7 columns]"
            ]
          },
          "metadata": {
            "tags": []
          },
          "execution_count": 8
        }
      ]
    },
    {
      "cell_type": "code",
      "metadata": {
        "trusted": true,
        "colab": {
          "base_uri": "https://localhost:8080/"
        },
        "id": "44bXtiR__XdJ",
        "outputId": "cbac58d6-5577-4820-d060-72a7e826e3bd"
      },
      "source": [
        "#verify dimensions of loaded train and test set\n",
        "print(train_df.shape)\n",
        "print(test_df.shape)"
      ],
      "execution_count": null,
      "outputs": [
        {
          "output_type": "stream",
          "text": [
            "(159571, 8)\n",
            "(153164, 2)\n"
          ],
          "name": "stdout"
        }
      ]
    },
    {
      "cell_type": "code",
      "metadata": {
        "trusted": true,
        "colab": {
          "base_uri": "https://localhost:8080/",
          "height": 265
        },
        "id": "R_nbkgTC_XdJ",
        "outputId": "ad8b706d-291c-42b7-bbc3-cdd2066061b3"
      },
      "source": [
        "#plot a graph to find the average length of comments\n",
        "lens = train_df.comment_text.str.len()\n",
        "plt.hist(lens, bins = 100)\n",
        "plt.show()"
      ],
      "execution_count": null,
      "outputs": [
        {
          "output_type": "display_data",
          "data": {
            "image/png": "[encoded data removed]",
            "text/plain": [
              "<Figure size 432x288 with 1 Axes>"
            ]
          },
          "metadata": {
            "tags": [],
            "needs_background": "light"
          }
        }
      ]
    },
    {
      "cell_type": "code",
      "metadata": {
        "trusted": true,
        "id": "JbdmLrmr_XdK"
      },
      "source": [
        "#labeling of data\n",
        "labels = train_df[['toxic', 'severe_toxic',\n",
        "                      'obscene', 'threat', 'insult', 'identity_hate']]\n",
        "label_cols = ['toxic', 'severe_toxic', 'obscene', 'threat', 'insult', 'identity_hate']"
      ],
      "execution_count": null,
      "outputs": []
    },
    {
      "cell_type": "code",
      "metadata": {
        "trusted": true,
        "colab": {
          "base_uri": "https://localhost:8080/",
          "height": 483
        },
        "id": "AZmKFV6W_XdL",
        "outputId": "6f3683ab-fe2d-4992-bd1e-634b7c59d8d1"
      },
      "source": [
        "#plot a piechart to find the distribution of categories of toxic comments\n",
        "labels.sum().plot.pie(y= 'Comment count' , figsize =(8,8),legend = True)"
      ],
      "execution_count": null,
      "outputs": [
        {
          "output_type": "execute_result",
          "data": {
            "text/plain": [
              "<matplotlib.axes._subplots.AxesSubplot at 0x7fca13d6d110>"
            ]
          },
          "metadata": {
            "tags": []
          },
          "execution_count": 12
        },
        {
          "output_type": "display_data",
          "data": {
            "image/png": "[encoded data removed]",
            "text/plain": [
              "<Figure size 576x576 with 1 Axes>"
            ]
          },
          "metadata": {
            "tags": []
          }
        }
      ]
    },
    {
      "cell_type": "code",
      "metadata": {
        "trusted": true,
        "colab": {
          "base_uri": "https://localhost:8080/",
          "height": 166
        },
        "id": "YukvRJFq_XdO",
        "outputId": "84590155-a61f-4f6b-b79c-38438fe552c6"
      },
      "source": [
        "#find the correleation between the categories\n",
        "correlation = labels.corr()\n",
        "correlation.style.background_gradient(cmap = 'jet').set_precision(2)"
      ],
      "execution_count": null,
      "outputs": [
        {
          "output_type": "execute_result",
          "data": {
            "text/html": [
              "<style  type=\"text/css\" >\n",
              "#T_58d0c41a_eaa7_11eb_a108_0242ac1c0002row0_col0,#T_58d0c41a_eaa7_11eb_a108_0242ac1c0002row1_col1,#T_58d0c41a_eaa7_11eb_a108_0242ac1c0002row2_col2,#T_58d0c41a_eaa7_11eb_a108_0242ac1c0002row3_col3,#T_58d0c41a_eaa7_11eb_a108_0242ac1c0002row4_col4,#T_58d0c41a_eaa7_11eb_a108_0242ac1c0002row5_col5{\n",
              "            background-color:  #800000;\n",
              "            color:  #f1f1f1;\n",
              "        }#T_58d0c41a_eaa7_11eb_a108_0242ac1c0002row0_col1{\n",
              "            background-color:  #0058ff;\n",
              "            color:  #f1f1f1;\n",
              "        }#T_58d0c41a_eaa7_11eb_a108_0242ac1c0002row0_col2{\n",
              "            background-color:  #e1ff16;\n",
              "            color:  #000000;\n",
              "        }#T_58d0c41a_eaa7_11eb_a108_0242ac1c0002row0_col3{\n",
              "            background-color:  #0000b6;\n",
              "            color:  #f1f1f1;\n",
              "        }#T_58d0c41a_eaa7_11eb_a108_0242ac1c0002row0_col4{\n",
              "            background-color:  #c1ff36;\n",
              "            color:  #000000;\n",
              "        }#T_58d0c41a_eaa7_11eb_a108_0242ac1c0002row0_col5,#T_58d0c41a_eaa7_11eb_a108_0242ac1c0002row5_col2{\n",
              "            background-color:  #002cff;\n",
              "            color:  #f1f1f1;\n",
              "        }#T_58d0c41a_eaa7_11eb_a108_0242ac1c0002row1_col0{\n",
              "            background-color:  #0038ff;\n",
              "            color:  #f1f1f1;\n",
              "        }#T_58d0c41a_eaa7_11eb_a108_0242ac1c0002row1_col2{\n",
              "            background-color:  #00b8ff;\n",
              "            color:  #000000;\n",
              "        }#T_58d0c41a_eaa7_11eb_a108_0242ac1c0002row1_col3{\n",
              "            background-color:  #000089;\n",
              "            color:  #f1f1f1;\n",
              "        }#T_58d0c41a_eaa7_11eb_a108_0242ac1c0002row1_col4{\n",
              "            background-color:  #0090ff;\n",
              "            color:  #000000;\n",
              "        }#T_58d0c41a_eaa7_11eb_a108_0242ac1c0002row1_col5{\n",
              "            background-color:  #0000f1;\n",
              "            color:  #f1f1f1;\n",
              "        }#T_58d0c41a_eaa7_11eb_a108_0242ac1c0002row2_col0{\n",
              "            background-color:  #dbff1c;\n",
              "            color:  #000000;\n",
              "        }#T_58d0c41a_eaa7_11eb_a108_0242ac1c0002row2_col1{\n",
              "            background-color:  #00c4ff;\n",
              "            color:  #000000;\n",
              "        }#T_58d0c41a_eaa7_11eb_a108_0242ac1c0002row2_col3{\n",
              "            background-color:  #00009f;\n",
              "            color:  #f1f1f1;\n",
              "        }#T_58d0c41a_eaa7_11eb_a108_0242ac1c0002row2_col4,#T_58d0c41a_eaa7_11eb_a108_0242ac1c0002row4_col2{\n",
              "            background-color:  #ffc800;\n",
              "            color:  #000000;\n",
              "        }#T_58d0c41a_eaa7_11eb_a108_0242ac1c0002row2_col5{\n",
              "            background-color:  #0044ff;\n",
              "            color:  #f1f1f1;\n",
              "        }#T_58d0c41a_eaa7_11eb_a108_0242ac1c0002row3_col0,#T_58d0c41a_eaa7_11eb_a108_0242ac1c0002row3_col1,#T_58d0c41a_eaa7_11eb_a108_0242ac1c0002row3_col2,#T_58d0c41a_eaa7_11eb_a108_0242ac1c0002row3_col4,#T_58d0c41a_eaa7_11eb_a108_0242ac1c0002row3_col5,#T_58d0c41a_eaa7_11eb_a108_0242ac1c0002row5_col3{\n",
              "            background-color:  #000080;\n",
              "            color:  #f1f1f1;\n",
              "        }#T_58d0c41a_eaa7_11eb_a108_0242ac1c0002row4_col0{\n",
              "            background-color:  #beff39;\n",
              "            color:  #000000;\n",
              "        }#T_58d0c41a_eaa7_11eb_a108_0242ac1c0002row4_col1{\n",
              "            background-color:  #00a4ff;\n",
              "            color:  #000000;\n",
              "        }#T_58d0c41a_eaa7_11eb_a108_0242ac1c0002row4_col3{\n",
              "            background-color:  #0000ad;\n",
              "            color:  #f1f1f1;\n",
              "        }#T_58d0c41a_eaa7_11eb_a108_0242ac1c0002row4_col5{\n",
              "            background-color:  #0080ff;\n",
              "            color:  #000000;\n",
              "        }#T_58d0c41a_eaa7_11eb_a108_0242ac1c0002row5_col0{\n",
              "            background-color:  #0004ff;\n",
              "            color:  #f1f1f1;\n",
              "        }#T_58d0c41a_eaa7_11eb_a108_0242ac1c0002row5_col1{\n",
              "            background-color:  #0000e3;\n",
              "            color:  #f1f1f1;\n",
              "        }#T_58d0c41a_eaa7_11eb_a108_0242ac1c0002row5_col4{\n",
              "            background-color:  #0060ff;\n",
              "            color:  #f1f1f1;\n",
              "        }</style><table id=\"T_58d0c41a_eaa7_11eb_a108_0242ac1c0002\" ><thead>    <tr>        <th class=\"blank level0\" ></th>        <th class=\"col_heading level0 col0\" >toxic</th>        <th class=\"col_heading level0 col1\" >severe_toxic</th>        <th class=\"col_heading level0 col2\" >obscene</th>        <th class=\"col_heading level0 col3\" >threat</th>        <th class=\"col_heading level0 col4\" >insult</th>        <th class=\"col_heading level0 col5\" >identity_hate</th>    </tr></thead><tbody>\n",
              "                <tr>\n",
              "                        <th id=\"T_58d0c41a_eaa7_11eb_a108_0242ac1c0002level0_row0\" class=\"row_heading level0 row0\" >toxic</th>\n",
              "                        <td id=\"T_58d0c41a_eaa7_11eb_a108_0242ac1c0002row0_col0\" class=\"data row0 col0\" >1.00</td>\n",
              "                        <td id=\"T_58d0c41a_eaa7_11eb_a108_0242ac1c0002row0_col1\" class=\"data row0 col1\" >0.31</td>\n",
              "                        <td id=\"T_58d0c41a_eaa7_11eb_a108_0242ac1c0002row0_col2\" class=\"data row0 col2\" >0.68</td>\n",
              "                        <td id=\"T_58d0c41a_eaa7_11eb_a108_0242ac1c0002row0_col3\" class=\"data row0 col3\" >0.16</td>\n",
              "                        <td id=\"T_58d0c41a_eaa7_11eb_a108_0242ac1c0002row0_col4\" class=\"data row0 col4\" >0.65</td>\n",
              "                        <td id=\"T_58d0c41a_eaa7_11eb_a108_0242ac1c0002row0_col5\" class=\"data row0 col5\" >0.27</td>\n",
              "            </tr>\n",
              "            <tr>\n",
              "                        <th id=\"T_58d0c41a_eaa7_11eb_a108_0242ac1c0002level0_row1\" class=\"row_heading level0 row1\" >severe_toxic</th>\n",
              "                        <td id=\"T_58d0c41a_eaa7_11eb_a108_0242ac1c0002row1_col0\" class=\"data row1 col0\" >0.31</td>\n",
              "                        <td id=\"T_58d0c41a_eaa7_11eb_a108_0242ac1c0002row1_col1\" class=\"data row1 col1\" >1.00</td>\n",
              "                        <td id=\"T_58d0c41a_eaa7_11eb_a108_0242ac1c0002row1_col2\" class=\"data row1 col2\" >0.40</td>\n",
              "                        <td id=\"T_58d0c41a_eaa7_11eb_a108_0242ac1c0002row1_col3\" class=\"data row1 col3\" >0.12</td>\n",
              "                        <td id=\"T_58d0c41a_eaa7_11eb_a108_0242ac1c0002row1_col4\" class=\"data row1 col4\" >0.38</td>\n",
              "                        <td id=\"T_58d0c41a_eaa7_11eb_a108_0242ac1c0002row1_col5\" class=\"data row1 col5\" >0.20</td>\n",
              "            </tr>\n",
              "            <tr>\n",
              "                        <th id=\"T_58d0c41a_eaa7_11eb_a108_0242ac1c0002level0_row2\" class=\"row_heading level0 row2\" >obscene</th>\n",
              "                        <td id=\"T_58d0c41a_eaa7_11eb_a108_0242ac1c0002row2_col0\" class=\"data row2 col0\" >0.68</td>\n",
              "                        <td id=\"T_58d0c41a_eaa7_11eb_a108_0242ac1c0002row2_col1\" class=\"data row2 col1\" >0.40</td>\n",
              "                        <td id=\"T_58d0c41a_eaa7_11eb_a108_0242ac1c0002row2_col2\" class=\"data row2 col2\" >1.00</td>\n",
              "                        <td id=\"T_58d0c41a_eaa7_11eb_a108_0242ac1c0002row2_col3\" class=\"data row2 col3\" >0.14</td>\n",
              "                        <td id=\"T_58d0c41a_eaa7_11eb_a108_0242ac1c0002row2_col4\" class=\"data row2 col4\" >0.74</td>\n",
              "                        <td id=\"T_58d0c41a_eaa7_11eb_a108_0242ac1c0002row2_col5\" class=\"data row2 col5\" >0.29</td>\n",
              "            </tr>\n",
              "            <tr>\n",
              "                        <th id=\"T_58d0c41a_eaa7_11eb_a108_0242ac1c0002level0_row3\" class=\"row_heading level0 row3\" >threat</th>\n",
              "                        <td id=\"T_58d0c41a_eaa7_11eb_a108_0242ac1c0002row3_col0\" class=\"data row3 col0\" >0.16</td>\n",
              "                        <td id=\"T_58d0c41a_eaa7_11eb_a108_0242ac1c0002row3_col1\" class=\"data row3 col1\" >0.12</td>\n",
              "                        <td id=\"T_58d0c41a_eaa7_11eb_a108_0242ac1c0002row3_col2\" class=\"data row3 col2\" >0.14</td>\n",
              "                        <td id=\"T_58d0c41a_eaa7_11eb_a108_0242ac1c0002row3_col3\" class=\"data row3 col3\" >1.00</td>\n",
              "                        <td id=\"T_58d0c41a_eaa7_11eb_a108_0242ac1c0002row3_col4\" class=\"data row3 col4\" >0.15</td>\n",
              "                        <td id=\"T_58d0c41a_eaa7_11eb_a108_0242ac1c0002row3_col5\" class=\"data row3 col5\" >0.12</td>\n",
              "            </tr>\n",
              "            <tr>\n",
              "                        <th id=\"T_58d0c41a_eaa7_11eb_a108_0242ac1c0002level0_row4\" class=\"row_heading level0 row4\" >insult</th>\n",
              "                        <td id=\"T_58d0c41a_eaa7_11eb_a108_0242ac1c0002row4_col0\" class=\"data row4 col0\" >0.65</td>\n",
              "                        <td id=\"T_58d0c41a_eaa7_11eb_a108_0242ac1c0002row4_col1\" class=\"data row4 col1\" >0.38</td>\n",
              "                        <td id=\"T_58d0c41a_eaa7_11eb_a108_0242ac1c0002row4_col2\" class=\"data row4 col2\" >0.74</td>\n",
              "                        <td id=\"T_58d0c41a_eaa7_11eb_a108_0242ac1c0002row4_col3\" class=\"data row4 col3\" >0.15</td>\n",
              "                        <td id=\"T_58d0c41a_eaa7_11eb_a108_0242ac1c0002row4_col4\" class=\"data row4 col4\" >1.00</td>\n",
              "                        <td id=\"T_58d0c41a_eaa7_11eb_a108_0242ac1c0002row4_col5\" class=\"data row4 col5\" >0.34</td>\n",
              "            </tr>\n",
              "            <tr>\n",
              "                        <th id=\"T_58d0c41a_eaa7_11eb_a108_0242ac1c0002level0_row5\" class=\"row_heading level0 row5\" >identity_hate</th>\n",
              "                        <td id=\"T_58d0c41a_eaa7_11eb_a108_0242ac1c0002row5_col0\" class=\"data row5 col0\" >0.27</td>\n",
              "                        <td id=\"T_58d0c41a_eaa7_11eb_a108_0242ac1c0002row5_col1\" class=\"data row5 col1\" >0.20</td>\n",
              "                        <td id=\"T_58d0c41a_eaa7_11eb_a108_0242ac1c0002row5_col2\" class=\"data row5 col2\" >0.29</td>\n",
              "                        <td id=\"T_58d0c41a_eaa7_11eb_a108_0242ac1c0002row5_col3\" class=\"data row5 col3\" >0.12</td>\n",
              "                        <td id=\"T_58d0c41a_eaa7_11eb_a108_0242ac1c0002row5_col4\" class=\"data row5 col4\" >0.34</td>\n",
              "                        <td id=\"T_58d0c41a_eaa7_11eb_a108_0242ac1c0002row5_col5\" class=\"data row5 col5\" >1.00</td>\n",
              "            </tr>\n",
              "    </tbody></table>"
            ],
            "text/plain": [
              "<pandas.io.formats.style.Styler at 0x7fca132a0150>"
            ]
          },
          "metadata": {
            "tags": []
          },
          "execution_count": 13
        }
      ]
    },
    {
      "cell_type": "code",
      "metadata": {
        "trusted": true,
        "id": "13poF2AA_XdP"
      },
      "source": [
        "#vectorizing the comments\n",
        "vec = TfidfVectorizer(stop_words = 'english')"
      ],
      "execution_count": null,
      "outputs": []
    },
    {
      "cell_type": "code",
      "metadata": {
        "trusted": true,
        "id": "Kd2AJsj2_XdP"
      },
      "source": [
        "train_x = vec.fit_transform(train_df['comment_text'])\n",
        "test_x= vec.transform(test_df['comment_text'])"
      ],
      "execution_count": null,
      "outputs": []
    },
    {
      "cell_type": "code",
      "metadata": {
        "trusted": true,
        "id": "qdLP8www_XdP"
      },
      "source": [
        "pred = np.zeros((test_df.shape[0],len(label_cols)))"
      ],
      "execution_count": null,
      "outputs": []
    },
    {
      "cell_type": "code",
      "metadata": {
        "trusted": true,
        "colab": {
          "base_uri": "https://localhost:8080/"
        },
        "id": "-f0KiZzc_XdQ",
        "outputId": "002e7f4d-b08f-4757-962d-b9cb4a2850f1"
      },
      "source": [
        "#define a Multinomial Naive Bayes model\n",
        "loss = []\n",
        "for i,col in enumerate(label_cols):\n",
        "    lr = MultinomialNB()\n",
        "    print('Building model {} for column: {''}'.format(i+1,col))\n",
        "    #training the model \n",
        "    lr.fit(train_x,train_df[col])\n",
        "    pred[:,i] = lr.predict_proba(test_x)[:,1]\n",
        "    prediction =  lr.predict(train_x)\n",
        "    print('Column: {''}'.format(col))\n",
        "    print('\\nConfusion matrix\\n',confusion_matrix(labels[col],prediction))\n",
        "    print(classification_report(labels[col],prediction))\n",
        "    print('ROC AUC:', roc_auc_score(train_df[col],prediction))\n",
        "    loss.append(roc_auc_score(train_df[col],prediction))\n",
        "    print('\\n\\n')\n",
        "    "
      ],
      "execution_count": null,
      "outputs": [
        {
          "output_type": "stream",
          "text": [
            "Building model 1 for column: toxic\n",
            "Column: toxic\n",
            "\n",
            "Confusion matrix\n",
            " [[144237     40]\n",
            " [ 11649   3645]]\n",
            "              precision    recall  f1-score   support\n",
            "\n",
            "           0       0.93      1.00      0.96    144277\n",
            "           1       0.99      0.24      0.38     15294\n",
            "\n",
            "    accuracy                           0.93    159571\n",
            "   macro avg       0.96      0.62      0.67    159571\n",
            "weighted avg       0.93      0.93      0.91    159571\n",
            "\n",
            "ROC AUC: 0.6190257559539045\n",
            "\n",
            "\n",
            "\n",
            "Building model 2 for column: severe_toxic\n",
            "Column: severe_toxic\n",
            "\n",
            "Confusion matrix\n",
            " [[157966     10]\n",
            " [  1595      0]]\n",
            "              precision    recall  f1-score   support\n",
            "\n",
            "           0       0.99      1.00      0.99    157976\n",
            "           1       0.00      0.00      0.00      1595\n",
            "\n",
            "    accuracy                           0.99    159571\n",
            "   macro avg       0.50      0.50      0.50    159571\n",
            "weighted avg       0.98      0.99      0.99    159571\n",
            "\n",
            "ROC AUC: 0.4999683496227275\n",
            "\n",
            "\n",
            "\n",
            "Building model 3 for column: obscene\n",
            "Column: obscene\n",
            "\n",
            "Confusion matrix\n",
            " [[151091     31]\n",
            " [  7088   1361]]\n",
            "              precision    recall  f1-score   support\n",
            "\n",
            "           0       0.96      1.00      0.98    151122\n",
            "           1       0.98      0.16      0.28      8449\n",
            "\n",
            "    accuracy                           0.96    159571\n",
            "   macro avg       0.97      0.58      0.63    159571\n",
            "weighted avg       0.96      0.96      0.94    159571\n",
            "\n",
            "ROC AUC: 0.5804395098467072\n",
            "\n",
            "\n",
            "\n",
            "Building model 4 for column: threat\n",
            "Column: threat\n",
            "\n",
            "Confusion matrix\n",
            " [[159088      5]\n",
            " [   476      2]]\n",
            "              precision    recall  f1-score   support\n",
            "\n",
            "           0       1.00      1.00      1.00    159093\n",
            "           1       0.29      0.00      0.01       478\n",
            "\n",
            "    accuracy                           1.00    159571\n",
            "   macro avg       0.64      0.50      0.50    159571\n",
            "weighted avg       0.99      1.00      1.00    159571\n",
            "\n",
            "ROC AUC: 0.5020763361300187\n",
            "\n",
            "\n",
            "\n",
            "Building model 5 for column: insult\n",
            "Column: insult\n",
            "\n",
            "Confusion matrix\n",
            " [[151653     41]\n",
            " [  7270    607]]\n",
            "              precision    recall  f1-score   support\n",
            "\n",
            "           0       0.95      1.00      0.98    151694\n",
            "           1       0.94      0.08      0.14      7877\n",
            "\n",
            "    accuracy                           0.95    159571\n",
            "   macro avg       0.95      0.54      0.56    159571\n",
            "weighted avg       0.95      0.95      0.94    159571\n",
            "\n",
            "ROC AUC: 0.5383947566887957\n",
            "\n",
            "\n",
            "\n",
            "Building model 6 for column: identity_hate\n",
            "Column: identity_hate\n",
            "\n",
            "Confusion matrix\n",
            " [[158156     10]\n",
            " [  1404      1]]\n",
            "              precision    recall  f1-score   support\n",
            "\n",
            "           0       0.99      1.00      1.00    158166\n",
            "           1       0.09      0.00      0.00      1405\n",
            "\n",
            "    accuracy                           0.99    159571\n",
            "   macro avg       0.54      0.50      0.50    159571\n",
            "weighted avg       0.98      0.99      0.99    159571\n",
            "\n",
            "ROC AUC: 0.500324259529483\n",
            "\n",
            "\n",
            "\n"
          ],
          "name": "stdout"
        }
      ]
    },
    {
      "cell_type": "code",
      "metadata": {
        "trusted": true,
        "colab": {
          "base_uri": "https://localhost:8080/"
        },
        "id": "24Ka2TJp_XdQ",
        "outputId": "8556facd-ce5a-4559-bf78-2c7c071cd588"
      },
      "source": [
        "#verifying the average ROC AUC score\n",
        "print(np.mean(loss))"
      ],
      "execution_count": null,
      "outputs": [
        {
          "output_type": "stream",
          "text": [
            "0.5400381612952728\n"
          ],
          "name": "stdout"
        }
      ]
    },
    {
      "cell_type": "code",
      "metadata": {
        "trusted": true,
        "id": "53pQNGxr_XdQ"
      },
      "source": [
        "prediction = np.zeros((test_df.shape[0],len(label_cols)))"
      ],
      "execution_count": null,
      "outputs": []
    },
    {
      "cell_type": "code",
      "metadata": {
        "trusted": true,
        "colab": {
          "base_uri": "https://localhost:8080/"
        },
        "id": "tw27cfaR_XdR",
        "outputId": "102f3b61-bf12-4e0e-efda-e2fbd05f9846"
      },
      "source": [
        "#creating a logistic regression model\n",
        "l1 = []\n",
        "for i,col in enumerate(label_cols):\n",
        "    lr = LogisticRegression(C=2,random_state = i,class_weight = 'balanced',max_iter =100000)\n",
        "    print('Building model {} for column: {''}'.format(i+1,col)) \n",
        "    #training the model\n",
        "    lr.fit(train_x,train_df[col])\n",
        "    pred[:,i] = lr.predict_proba(test_x)[:,1]\n",
        "    prediction =  lr.predict(train_x)\n",
        "    print('Column: {''}'.format(col))\n",
        "    print('\\nConfusion matrix\\n',confusion_matrix(labels[col],prediction))\n",
        "    print(classification_report(labels[col],prediction))\n",
        "    print('ROC AUC:', roc_auc_score(train_df[col], prediction))\n",
        "    l1.append(roc_auc_score(train_df[col], prediction))\n",
        "    print('\\n\\n')"
      ],
      "execution_count": null,
      "outputs": [
        {
          "output_type": "stream",
          "text": [
            "Building model 1 for column: toxic\n",
            "Column: toxic\n",
            "\n",
            "Confusion matrix\n",
            " [[139355   4922]\n",
            " [   236  15058]]\n",
            "              precision    recall  f1-score   support\n",
            "\n",
            "           0       1.00      0.97      0.98    144277\n",
            "           1       0.75      0.98      0.85     15294\n",
            "\n",
            "    accuracy                           0.97    159571\n",
            "   macro avg       0.88      0.98      0.92    159571\n",
            "weighted avg       0.97      0.97      0.97    159571\n",
            "\n",
            "ROC AUC: 0.9752270901880993\n",
            "\n",
            "\n",
            "\n",
            "Building model 2 for column: severe_toxic\n",
            "Column: severe_toxic\n",
            "\n",
            "Confusion matrix\n",
            " [[155288   2688]\n",
            " [     1   1594]]\n",
            "              precision    recall  f1-score   support\n",
            "\n",
            "           0       1.00      0.98      0.99    157976\n",
            "           1       0.37      1.00      0.54      1595\n",
            "\n",
            "    accuracy                           0.98    159571\n",
            "   macro avg       0.69      0.99      0.77    159571\n",
            "weighted avg       0.99      0.98      0.99    159571\n",
            "\n",
            "ROC AUC: 0.9911788989653284\n",
            "\n",
            "\n",
            "\n",
            "Building model 3 for column: obscene\n",
            "Column: obscene\n",
            "\n",
            "Confusion matrix\n",
            " [[148735   2387]\n",
            " [    17   8432]]\n",
            "              precision    recall  f1-score   support\n",
            "\n",
            "           0       1.00      0.98      0.99    151122\n",
            "           1       0.78      1.00      0.88      8449\n",
            "\n",
            "    accuracy                           0.98    159571\n",
            "   macro avg       0.89      0.99      0.93    159571\n",
            "weighted avg       0.99      0.98      0.99    159571\n",
            "\n",
            "ROC AUC: 0.991096371109227\n",
            "\n",
            "\n",
            "\n",
            "Building model 4 for column: threat\n",
            "Column: threat\n",
            "\n",
            "Confusion matrix\n",
            " [[158360    733]\n",
            " [     0    478]]\n",
            "              precision    recall  f1-score   support\n",
            "\n",
            "           0       1.00      1.00      1.00    159093\n",
            "           1       0.39      1.00      0.57       478\n",
            "\n",
            "    accuracy                           1.00    159571\n",
            "   macro avg       0.70      1.00      0.78    159571\n",
            "weighted avg       1.00      1.00      1.00    159571\n",
            "\n",
            "ROC AUC: 0.9976963159912756\n",
            "\n",
            "\n",
            "\n",
            "Building model 5 for column: insult\n",
            "Column: insult\n",
            "\n",
            "Confusion matrix\n",
            " [[147558   4136]\n",
            " [    14   7863]]\n",
            "              precision    recall  f1-score   support\n",
            "\n",
            "           0       1.00      0.97      0.99    151694\n",
            "           1       0.66      1.00      0.79      7877\n",
            "\n",
            "    accuracy                           0.97    159571\n",
            "   macro avg       0.83      0.99      0.89    159571\n",
            "weighted avg       0.98      0.97      0.98    159571\n",
            "\n",
            "ROC AUC: 0.9854786288518176\n",
            "\n",
            "\n",
            "\n",
            "Building model 6 for column: identity_hate\n",
            "Column: identity_hate\n",
            "\n",
            "Confusion matrix\n",
            " [[155964   2202]\n",
            " [     2   1403]]\n",
            "              precision    recall  f1-score   support\n",
            "\n",
            "           0       1.00      0.99      0.99    158166\n",
            "           1       0.39      1.00      0.56      1405\n",
            "\n",
            "    accuracy                           0.99    159571\n",
            "   macro avg       0.69      0.99      0.78    159571\n",
            "weighted avg       0.99      0.99      0.99    159571\n",
            "\n",
            "ROC AUC: 0.9923272152960787\n",
            "\n",
            "\n",
            "\n"
          ],
          "name": "stdout"
        }
      ]
    },
    {
      "cell_type": "code",
      "metadata": {
        "trusted": true,
        "colab": {
          "base_uri": "https://localhost:8080/"
        },
        "id": "13aliDtW_XdR",
        "outputId": "56f29fe7-1095-425c-847e-2dd77ddda20f"
      },
      "source": [
        "#verifying ROC AUC score\n",
        "print(np.mean(l1))"
      ],
      "execution_count": null,
      "outputs": [
        {
          "output_type": "stream",
          "text": [
            "0.9888340867336378\n"
          ],
          "name": "stdout"
        }
      ]
    },
    {
      "cell_type": "code",
      "metadata": {
        "trusted": true,
        "colab": {
          "base_uri": "https://localhost:8080/"
        },
        "id": "zPvunxbz_XdS",
        "outputId": "af299851-8592-4a42-dc53-69eebc24a9cf"
      },
      "source": [
        "#since results are better for logistic regresiion that multinomial naive bayes model, we will move forward\n",
        "#with logistic regression\n",
        "lr_toxic =  LogisticRegression(C=2,class_weight = 'balanced',max_iter =100000)\n",
        "print('Building model 1 for Toxic')\n",
        "lr_toxic.fit(train_x,train_df['toxic'])"
      ],
      "execution_count": null,
      "outputs": [
        {
          "output_type": "stream",
          "text": [
            "Building model 1 for Toxic\n"
          ],
          "name": "stdout"
        },
        {
          "output_type": "execute_result",
          "data": {
            "text/plain": [
              "LogisticRegression(C=2, class_weight='balanced', dual=False, fit_intercept=True,\n",
              "                   intercept_scaling=1, l1_ratio=None, max_iter=100000,\n",
              "                   multi_class='auto', n_jobs=None, penalty='l2',\n",
              "                   random_state=None, solver='lbfgs', tol=0.0001, verbose=0,\n",
              "                   warm_start=False)"
            ]
          },
          "metadata": {
            "tags": []
          },
          "execution_count": 22
        }
      ]
    },
    {
      "cell_type": "code",
      "metadata": {
        "trusted": true,
        "colab": {
          "base_uri": "https://localhost:8080/"
        },
        "id": "F3AVvXbF_XdS",
        "outputId": "7211abf2-20e6-434d-e22e-f8db7bda4d5c"
      },
      "source": [
        "lr_st =  LogisticRegression(C=2,class_weight = 'balanced',max_iter =100000)\n",
        "print('Building model 2 for severe_toxic')\n",
        "lr_st.fit(train_x,train_df['severe_toxic'])"
      ],
      "execution_count": null,
      "outputs": [
        {
          "output_type": "stream",
          "text": [
            "Building model 2 for severe_toxic\n"
          ],
          "name": "stdout"
        },
        {
          "output_type": "execute_result",
          "data": {
            "text/plain": [
              "LogisticRegression(C=2, class_weight='balanced', dual=False, fit_intercept=True,\n",
              "                   intercept_scaling=1, l1_ratio=None, max_iter=100000,\n",
              "                   multi_class='auto', n_jobs=None, penalty='l2',\n",
              "                   random_state=None, solver='lbfgs', tol=0.0001, verbose=0,\n",
              "                   warm_start=False)"
            ]
          },
          "metadata": {
            "tags": []
          },
          "execution_count": 23
        }
      ]
    },
    {
      "cell_type": "code",
      "metadata": {
        "trusted": true,
        "colab": {
          "base_uri": "https://localhost:8080/"
        },
        "id": "xRydgKM1_XdS",
        "outputId": "32b29697-0dad-4598-8113-eb1413deaf95"
      },
      "source": [
        "lr_obs =  LogisticRegression(C=2,class_weight = 'balanced',max_iter =100000)\n",
        "print('Building model 3 for obscene')\n",
        "lr_obs.fit(train_x,train_df['obscene'])"
      ],
      "execution_count": null,
      "outputs": [
        {
          "output_type": "stream",
          "text": [
            "Building model 3 for obscene\n"
          ],
          "name": "stdout"
        },
        {
          "output_type": "execute_result",
          "data": {
            "text/plain": [
              "LogisticRegression(C=2, class_weight='balanced', dual=False, fit_intercept=True,\n",
              "                   intercept_scaling=1, l1_ratio=None, max_iter=100000,\n",
              "                   multi_class='auto', n_jobs=None, penalty='l2',\n",
              "                   random_state=None, solver='lbfgs', tol=0.0001, verbose=0,\n",
              "                   warm_start=False)"
            ]
          },
          "metadata": {
            "tags": []
          },
          "execution_count": 24
        }
      ]
    },
    {
      "cell_type": "code",
      "metadata": {
        "trusted": true,
        "colab": {
          "base_uri": "https://localhost:8080/"
        },
        "id": "7yA5SWqi_XdS",
        "outputId": "1b62635c-fc35-4687-b885-61d5d40c1320"
      },
      "source": [
        "lr_threat =  LogisticRegression(C=2,class_weight = 'balanced',max_iter =100000)\n",
        "print('Building model 4 for threat')\n",
        "lr_threat.fit(train_x,train_df['threat'])"
      ],
      "execution_count": null,
      "outputs": [
        {
          "output_type": "stream",
          "text": [
            "Building model 4 for threat\n"
          ],
          "name": "stdout"
        },
        {
          "output_type": "execute_result",
          "data": {
            "text/plain": [
              "LogisticRegression(C=2, class_weight='balanced', dual=False, fit_intercept=True,\n",
              "                   intercept_scaling=1, l1_ratio=None, max_iter=100000,\n",
              "                   multi_class='auto', n_jobs=None, penalty='l2',\n",
              "                   random_state=None, solver='lbfgs', tol=0.0001, verbose=0,\n",
              "                   warm_start=False)"
            ]
          },
          "metadata": {
            "tags": []
          },
          "execution_count": 25
        }
      ]
    },
    {
      "cell_type": "code",
      "metadata": {
        "trusted": true,
        "colab": {
          "base_uri": "https://localhost:8080/"
        },
        "id": "QHcf89ZS_XdT",
        "outputId": "c948ebd2-0321-441f-d1e5-c6c46efa6d7c"
      },
      "source": [
        "lr_insult =  LogisticRegression(C=2,class_weight = 'balanced',max_iter =100000)\n",
        "print('Building model 5 for insult')\n",
        "lr_insult.fit(train_x,train_df['insult'])"
      ],
      "execution_count": null,
      "outputs": [
        {
          "output_type": "stream",
          "text": [
            "Building model 5 for insult\n"
          ],
          "name": "stdout"
        },
        {
          "output_type": "execute_result",
          "data": {
            "text/plain": [
              "LogisticRegression(C=2, class_weight='balanced', dual=False, fit_intercept=True,\n",
              "                   intercept_scaling=1, l1_ratio=None, max_iter=100000,\n",
              "                   multi_class='auto', n_jobs=None, penalty='l2',\n",
              "                   random_state=None, solver='lbfgs', tol=0.0001, verbose=0,\n",
              "                   warm_start=False)"
            ]
          },
          "metadata": {
            "tags": []
          },
          "execution_count": 26
        }
      ]
    },
    {
      "cell_type": "code",
      "metadata": {
        "trusted": true,
        "colab": {
          "base_uri": "https://localhost:8080/"
        },
        "id": "ZNzoJFe9_XdT",
        "outputId": "5cd682b6-e096-4fb4-ab0f-558920fb87f8"
      },
      "source": [
        "lr_ih =  LogisticRegression(C=2,class_weight = 'balanced',max_iter =100000)\n",
        "print('Building model 6 for identity_hate')\n",
        "lr_ih.fit(train_x,train_df['identity_hate'])"
      ],
      "execution_count": null,
      "outputs": [
        {
          "output_type": "stream",
          "text": [
            "Building model 6 for identity_hate\n"
          ],
          "name": "stdout"
        },
        {
          "output_type": "execute_result",
          "data": {
            "text/plain": [
              "LogisticRegression(C=2, class_weight='balanced', dual=False, fit_intercept=True,\n",
              "                   intercept_scaling=1, l1_ratio=None, max_iter=100000,\n",
              "                   multi_class='auto', n_jobs=None, penalty='l2',\n",
              "                   random_state=None, solver='lbfgs', tol=0.0001, verbose=0,\n",
              "                   warm_start=False)"
            ]
          },
          "metadata": {
            "tags": []
          },
          "execution_count": 27
        }
      ]
    },
    {
      "cell_type": "code",
      "metadata": {
        "trusted": true,
        "id": "Q17mogU0_XdU"
      },
      "source": [
        "#change the below code to get predictions for toxic comments\n",
        "txt = 'I will kill you!'\n",
        "apl = vec.transform([txt])"
      ],
      "execution_count": null,
      "outputs": []
    },
    {
      "cell_type": "code",
      "metadata": {
        "trusted": true,
        "id": "0BhhWAAY_XdU"
      },
      "source": [
        "tox_o = lr_toxic.predict_proba(apl)\n",
        "s_tox_o = lr_st.predict_proba(apl)\n",
        "obs_o = lr_obs.predict_proba(apl)\n",
        "threat_o = lr_threat.predict_proba(apl)\n",
        "insult_o = lr_insult.predict_proba(apl)\n",
        "identity_o = lr_ih.predict_proba(apl)"
      ],
      "execution_count": null,
      "outputs": []
    },
    {
      "cell_type": "code",
      "metadata": {
        "trusted": true,
        "colab": {
          "base_uri": "https://localhost:8080/"
        },
        "id": "3JCMcfvR_XdU",
        "outputId": "7cd954d5-864d-4520-b7c0-10df50723dc3"
      },
      "source": [
        "print(tox_o[:,1],' ',s_tox_o[:,1],' ',obs_o[:,1],' ',threat_o[:,1],' ',insult_o[:,1],' ',identity_o[:,1])"
      ],
      "execution_count": null,
      "outputs": [
        {
          "output_type": "stream",
          "text": [
            "[0.99710521]   [0.92497096]   [0.70602681]   [0.99999963]   [0.71788362]   [0.34156501]\n"
          ],
          "name": "stdout"
        }
      ]
    }
  ]
}